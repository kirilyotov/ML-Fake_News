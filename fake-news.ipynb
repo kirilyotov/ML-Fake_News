{
 "cells": [
  {
   "cell_type": "markdown",
   "metadata": {},
   "source": [
    "Fake News Classifier\n",
    "=====================\n",
    "представено от:\n",
    "  1.  Име: Кирил Йотов <br>\n",
    "      Факултетен номер: 7MI0800146<br>\n",
    "      Специалност: КН, бакалавър <br>\n",
    "      \n",
    "  2.  Име: Христо Жаблянов<br>\n",
    "      Факултетен номер: 82158<br>\n",
    "      Специлност: КН, бакалавър<br>\n",
    "\n",
    "Тип на проекта: 'А'\n",
    "\n",
    "Проекта е базиран на kaggle [Fake News Classification](https://www.kaggle.com/datasets/saurabhshahane/fake-news-classification)."
   ]
  },
  {
   "cell_type": "markdown",
   "metadata": {},
   "source": [
    "### Библиотеки\n",
    "Библиотеките, които ще използваме, са от стандартните за курса:\n",
    "- numpy\n",
    "- pandas\n",
    "- matplotlib\n",
    "- scikit-learn\n",
    "- seaborn"
   ]
  },
  {
   "cell_type": "markdown",
   "metadata": {},
   "source": [
    "### Алгоритми:\n",
    "- **Naive Bayes**: Базиран на условна вероятност, но предполага, че атирбутите са независими. Това го прави ефикасен, но може да не ни е много от помощ, ако създаваме нови колони, базирано на title/text.\n",
    "- **Logistic Regression**: Базиран е на линейна регресия, която намира линейна функция на атрибутите. Но докато линейната регресия работи с непрекъснати стойности, логистичната е адаптирана за дискретни.\n",
    "- **KNN**: Мързелив алгоритъм, който пази всички данни и predict-ва нови, като сравнява близостта им със старите.\n",
    "- **Decision Tree**: Изгражда дърво, където листата са класове, вътрешните възли са тествани атирбути, а ребрата са възможни стойности на тестваните атрибути.\n",
    "- **Random Forest**: Метод на ансамблово учене, където се тренират множество дървета и се ползва гласуване за predict-ване."
   ]
  },
  {
   "cell_type": "markdown",
   "metadata": {},
   "source": [
    "### Разглеждане на данните"
   ]
  },
  {
   "cell_type": "code",
   "execution_count": 1,
   "metadata": {},
   "outputs": [],
   "source": [
    "import numpy as np\n",
    "import matplotlib.pyplot as plt\n",
    "import pandas as pd\n",
    "import seaborn as sns"
   ]
  },
  {
   "cell_type": "code",
   "execution_count": 2,
   "metadata": {},
   "outputs": [],
   "source": [
    "data = pd.read_csv('./dataset/WELFake_Dataset.csv')\n",
    "data.drop(data.columns[0], axis=1, inplace=True)"
   ]
  },
  {
   "cell_type": "code",
   "execution_count": 33,
   "metadata": {},
   "outputs": [
    {
     "name": "stdout",
     "output_type": "stream",
     "text": [
      "(72134, 3)\n",
      "\n",
      "<class 'pandas.core.frame.DataFrame'>\n",
      "RangeIndex: 72134 entries, 0 to 72133\n",
      "Data columns (total 3 columns):\n",
      " #   Column  Non-Null Count  Dtype \n",
      "---  ------  --------------  ----- \n",
      " 0   title   71576 non-null  object\n",
      " 1   text    72095 non-null  object\n",
      " 2   label   72134 non-null  int64 \n",
      "dtypes: int64(1), object(2)\n",
      "memory usage: 1.7+ MB\n",
      "None\n",
      "\n",
      "              label\n",
      "count  72134.000000\n",
      "mean       0.514404\n",
      "std        0.499796\n",
      "min        0.000000\n",
      "25%        0.000000\n",
      "50%        1.000000\n",
      "75%        1.000000\n",
      "max        1.000000\n"
     ]
    }
   ],
   "source": [
    "print(data.shape)\n",
    "print()\n",
    "print(data.info())\n",
    "print()\n",
    "print(data.describe())"
   ]
  },
  {
   "cell_type": "markdown",
   "metadata": {},
   "source": [
    "Данните представляват 3 колони:\n",
    "- title: заглавие на новината\n",
    "- text: текст на новината\n",
    "- label: бинарна стойност, която показва дали новината е фалшива или истинска\n",
    "    - 0: Fake\n",
    "    - 1: Real"
   ]
  },
  {
   "cell_type": "code",
   "execution_count": 34,
   "metadata": {},
   "outputs": [
    {
     "data": {
      "text/html": [
       "<div>\n",
       "<style scoped>\n",
       "    .dataframe tbody tr th:only-of-type {\n",
       "        vertical-align: middle;\n",
       "    }\n",
       "\n",
       "    .dataframe tbody tr th {\n",
       "        vertical-align: top;\n",
       "    }\n",
       "\n",
       "    .dataframe thead th {\n",
       "        text-align: right;\n",
       "    }\n",
       "</style>\n",
       "<table border=\"1\" class=\"dataframe\">\n",
       "  <thead>\n",
       "    <tr style=\"text-align: right;\">\n",
       "      <th></th>\n",
       "      <th>title</th>\n",
       "      <th>text</th>\n",
       "      <th>label</th>\n",
       "    </tr>\n",
       "  </thead>\n",
       "  <tbody>\n",
       "    <tr>\n",
       "      <th>0</th>\n",
       "      <td>LAW ENFORCEMENT ON HIGH ALERT Following Threat...</td>\n",
       "      <td>No comment is expected from Barack Obama Membe...</td>\n",
       "      <td>1</td>\n",
       "    </tr>\n",
       "    <tr>\n",
       "      <th>1</th>\n",
       "      <td>NaN</td>\n",
       "      <td>Did they post their votes for Hillary already?</td>\n",
       "      <td>1</td>\n",
       "    </tr>\n",
       "    <tr>\n",
       "      <th>2</th>\n",
       "      <td>UNBELIEVABLE! OBAMA’S ATTORNEY GENERAL SAYS MO...</td>\n",
       "      <td>Now, most of the demonstrators gathered last ...</td>\n",
       "      <td>1</td>\n",
       "    </tr>\n",
       "    <tr>\n",
       "      <th>3</th>\n",
       "      <td>Bobby Jindal, raised Hindu, uses story of Chri...</td>\n",
       "      <td>A dozen politically active pastors came here f...</td>\n",
       "      <td>0</td>\n",
       "    </tr>\n",
       "    <tr>\n",
       "      <th>4</th>\n",
       "      <td>SATAN 2: Russia unvelis an image of its terrif...</td>\n",
       "      <td>The RS-28 Sarmat missile, dubbed Satan 2, will...</td>\n",
       "      <td>1</td>\n",
       "    </tr>\n",
       "  </tbody>\n",
       "</table>\n",
       "</div>"
      ],
      "text/plain": [
       "                                               title  \\\n",
       "0  LAW ENFORCEMENT ON HIGH ALERT Following Threat...   \n",
       "1                                                NaN   \n",
       "2  UNBELIEVABLE! OBAMA’S ATTORNEY GENERAL SAYS MO...   \n",
       "3  Bobby Jindal, raised Hindu, uses story of Chri...   \n",
       "4  SATAN 2: Russia unvelis an image of its terrif...   \n",
       "\n",
       "                                                text  label  \n",
       "0  No comment is expected from Barack Obama Membe...      1  \n",
       "1     Did they post their votes for Hillary already?      1  \n",
       "2   Now, most of the demonstrators gathered last ...      1  \n",
       "3  A dozen politically active pastors came here f...      0  \n",
       "4  The RS-28 Sarmat missile, dubbed Satan 2, will...      1  "
      ]
     },
     "execution_count": 34,
     "metadata": {},
     "output_type": "execute_result"
    }
   ],
   "source": [
    "data.head()"
   ]
  },
  {
   "cell_type": "markdown",
   "metadata": {},
   "source": [
    "Данните са разпределени сравнително равномерно."
   ]
  },
  {
   "cell_type": "code",
   "execution_count": 35,
   "metadata": {},
   "outputs": [
    {
     "data": {
      "image/png": "[encoded data removed]",
      "text/plain": [
       "<Figure size 640x480 with 1 Axes>"
      ]
     },
     "metadata": {},
     "output_type": "display_data"
    }
   ],
   "source": [
    "data.groupby('label').size().plot(kind = 'pie', autopct = '%.2f%%', labels = ['Fake', 'Real'])\n",
    "plt.title('Label Distribution')\n",
    "plt.show()"
   ]
  },
  {
   "cell_type": "markdown",
   "metadata": {},
   "source": [
    "Новини, където и заглавието и текстът са празни, щяха да са безполезни, та е хубаво, че такива няма. Новини с липсващо заглавие или текст са малко, но виждваме, че такива има само при истинските новини."
   ]
  },
  {
   "cell_type": "code",
   "execution_count": 11,
   "metadata": {},
   "outputs": [
    {
     "name": "stdout",
     "output_type": "stream",
     "text": [
      "Total entries: 72134\n",
      "Fake news without titles: 0, 0.00%\n",
      "Real news without titles: 558, 0.01%\n",
      "Fake news without texts: 0, 0.00%\n",
      "Real news without texts: 39, 0.00%\n",
      "Fake news without titles and texts: 0, 0.00%\n",
      "Real news without titles and texts: 0, 0.00%\n"
     ]
    }
   ],
   "source": [
    "fake_news = data[data['label'] == 0]\n",
    "real_news = data[data['label'] == 1]\n",
    "fake_news_no_title_count = len(fake_news[pd.isna(fake_news['title'])])\n",
    "real_news_no_title_count = len(real_news[pd.isna(real_news['title'])])\n",
    "fake_news_no_text_count = len(fake_news[pd.isna(fake_news['text'])])\n",
    "real_news_no_text_count = len(real_news[pd.isna(real_news['text'])])\n",
    "fake_news_nothing = len(fake_news[pd.isna(fake_news['title']) & pd.isna(fake_news['text'])])\n",
    "real_news_nothing = len(real_news[pd.isna(real_news['title']) & pd.isna(real_news['text'])])\n",
    "count = len(data)\n",
    "\n",
    "print('Total entries: %d' % count)\n",
    "print('Fake news without titles: %d, %.2f%%' % (fake_news_no_title_count, fake_news_no_title_count / count))\n",
    "print('Real news without titles: %d, %.2f%%' % (real_news_no_title_count, real_news_no_title_count / count))\n",
    "print('Fake news without texts: %d, %.2f%%' % (fake_news_no_text_count, fake_news_no_text_count / count))\n",
    "print('Real news without texts: %d, %.2f%%' % (real_news_no_text_count, real_news_no_text_count / count))\n",
    "print('Fake news without titles and texts: %d, %.2f%%' % (fake_news_nothing, fake_news_nothing / count))\n",
    "print('Real news without titles and texts: %d, %.2f%%' % (real_news_nothing, real_news_nothing / count))"
   ]
  },
  {
   "cell_type": "markdown",
   "metadata": {},
   "source": [
    "Подсигуряваме се, че празни низове не са се промъкнали вместо NA."
   ]
  },
  {
   "cell_type": "code",
   "execution_count": 37,
   "metadata": {},
   "outputs": [
    {
     "name": "stdout",
     "output_type": "stream",
     "text": [
      "0\n",
      "0\n"
     ]
    }
   ],
   "source": [
    "print(len(data[data['title'] == '']))\n",
    "print(len(data[data['text'] == '']))"
   ]
  },
  {
   "cell_type": "markdown",
   "metadata": {},
   "source": [
    "### Зависимости и масажиране на данните"
   ]
  },
  {
   "cell_type": "code",
   "execution_count": 3,
   "metadata": {},
   "outputs": [
    {
     "data": {
      "text/html": [
       "<div>\n",
       "<style scoped>\n",
       "    .dataframe tbody tr th:only-of-type {\n",
       "        vertical-align: middle;\n",
       "    }\n",
       "\n",
       "    .dataframe tbody tr th {\n",
       "        vertical-align: top;\n",
       "    }\n",
       "\n",
       "    .dataframe thead th {\n",
       "        text-align: right;\n",
       "    }\n",
       "</style>\n",
       "<table border=\"1\" class=\"dataframe\">\n",
       "  <thead>\n",
       "    <tr style=\"text-align: right;\">\n",
       "      <th></th>\n",
       "      <th>label</th>\n",
       "      <th>title-word-count</th>\n",
       "      <th>text-word-count</th>\n",
       "    </tr>\n",
       "  </thead>\n",
       "  <tbody>\n",
       "    <tr>\n",
       "      <th>count</th>\n",
       "      <td>72134.000000</td>\n",
       "      <td>72134.000000</td>\n",
       "      <td>72134.000000</td>\n",
       "    </tr>\n",
       "    <tr>\n",
       "      <th>mean</th>\n",
       "      <td>0.514404</td>\n",
       "      <td>12.173316</td>\n",
       "      <td>540.550933</td>\n",
       "    </tr>\n",
       "    <tr>\n",
       "      <th>std</th>\n",
       "      <td>0.499796</td>\n",
       "      <td>4.255615</td>\n",
       "      <td>625.399748</td>\n",
       "    </tr>\n",
       "    <tr>\n",
       "      <th>min</th>\n",
       "      <td>0.000000</td>\n",
       "      <td>0.000000</td>\n",
       "      <td>0.000000</td>\n",
       "    </tr>\n",
       "    <tr>\n",
       "      <th>25%</th>\n",
       "      <td>0.000000</td>\n",
       "      <td>9.000000</td>\n",
       "      <td>227.000000</td>\n",
       "    </tr>\n",
       "    <tr>\n",
       "      <th>50%</th>\n",
       "      <td>1.000000</td>\n",
       "      <td>12.000000</td>\n",
       "      <td>398.000000</td>\n",
       "    </tr>\n",
       "    <tr>\n",
       "      <th>75%</th>\n",
       "      <td>1.000000</td>\n",
       "      <td>14.000000</td>\n",
       "      <td>667.000000</td>\n",
       "    </tr>\n",
       "    <tr>\n",
       "      <th>max</th>\n",
       "      <td>1.000000</td>\n",
       "      <td>72.000000</td>\n",
       "      <td>24234.000000</td>\n",
       "    </tr>\n",
       "  </tbody>\n",
       "</table>\n",
       "</div>"
      ],
      "text/plain": [
       "              label  title-word-count  text-word-count\n",
       "count  72134.000000      72134.000000     72134.000000\n",
       "mean       0.514404         12.173316       540.550933\n",
       "std        0.499796          4.255615       625.399748\n",
       "min        0.000000          0.000000         0.000000\n",
       "25%        0.000000          9.000000       227.000000\n",
       "50%        1.000000         12.000000       398.000000\n",
       "75%        1.000000         14.000000       667.000000\n",
       "max        1.000000         72.000000     24234.000000"
      ]
     },
     "execution_count": 3,
     "metadata": {},
     "output_type": "execute_result"
    }
   ],
   "source": [
    "counted = data.copy()\n",
    "counted['title'].fillna('', inplace = True)\n",
    "counted['text'].fillna('', inplace = True)\n",
    "counted['title-word-count'] = counted['title'].apply(lambda x: len(x.split()))\n",
    "counted['text-word-count'] = counted['text'].apply(lambda x: len(x.split()))\n",
    "counted.describe()"
   ]
  },
  {
   "cell_type": "code",
   "execution_count": 9,
   "metadata": {},
   "outputs": [
    {
     "data": {
      "image/png": "[encoded data removed]",
      "text/plain": [
       "<Figure size 1500x500 with 2 Axes>"
      ]
     },
     "metadata": {},
     "output_type": "display_data"
    }
   ],
   "source": [
    "counted_fake_news = counted[counted['label'] == 0]\n",
    "counted_real_news = counted[counted['label'] == 1]\n",
    "\n",
    "fig, ax = plt.subplots(1, 2)\n",
    "fig.set_figheight(5)\n",
    "fig.set_figwidth(15)\n",
    "counted_real_news['title-word-count'].value_counts().sort_index().plot(label = 'Real News', ax = ax[0])\n",
    "counted_fake_news['title-word-count'].value_counts().sort_index().plot(label = 'Fake News', ax = ax[0])\n",
    "counted_real_news['text-word-count'].value_counts().sort_index().plot(label = 'Real News', ax = ax[1])\n",
    "counted_fake_news['text-word-count'].value_counts().sort_index().plot(label = 'Fake News', ax = ax[1])\n",
    "ax[0].set_title('Title Word Count Distribution')\n",
    "ax[1].set_title('Text Word Count Distribution')\n",
    "ax[0].set_xlabel('Word Count')\n",
    "ax[1].set_xlabel('Word Count')\n",
    "ax[0].set_ylabel('Row Count')\n",
    "ax[1].set_ylabel('Row Count')\n",
    "ax[0].legend()\n",
    "ax[1].legend()\n",
    "plt.show()"
   ]
  },
  {
   "cell_type": "markdown",
   "metadata": {},
   "source": [
    "Можем да видим, че истинските новини могат да имат както много по-дълги заглавия, така и текстове. При заглавията, фалшивите новини имат по-голямо струпване в диапазона 10-13 думи. От друга страна, истинските новини имат доста текстове с много малко думи, което е учудващо, дори като вземем предвид празните текстове."
   ]
  },
  {
   "cell_type": "markdown",
   "metadata": {},
   "source": [
    "### Трениране"
   ]
  },
  {
   "cell_type": "code",
   "execution_count": 27,
   "metadata": {},
   "outputs": [],
   "source": [
    "X = data.drop('label', axis=1) \n",
    "y = data['label']"
   ]
  }
 ],
 "metadata": {
  "kernelspec": {
   "display_name": "base",
   "language": "python",
   "name": "python3"
  },
  "language_info": {
   "codemirror_mode": {
    "name": "ipython",
    "version": 3
   },
   "file_extension": ".py",
   "mimetype": "text/x-python",
   "name": "python",
   "nbconvert_exporter": "python",
   "pygments_lexer": "ipython3",
   "version": "3.12.1"
  }
 },
 "nbformat": 4,
 "nbformat_minor": 2
}
